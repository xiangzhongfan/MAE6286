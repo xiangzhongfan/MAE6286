{
 "cells": [
  {
   "cell_type": "code",
   "execution_count": 23,
   "metadata": {},
   "outputs": [],
   "source": [
    "import numpy\n",
    "from matplotlib import pyplot\n",
    "%matplotlib inline"
   ]
  },
  {
   "cell_type": "code",
   "execution_count": 24,
   "metadata": {},
   "outputs": [],
   "source": [
    "pyplot.rcParams['font.family']='serif'\n",
    "pyplot.rcParams['font.size']=16"
   ]
  },
  {
   "cell_type": "code",
   "execution_count": 25,
   "metadata": {},
   "outputs": [],
   "source": [
    "def rho_green_light(x,rho_light):\n",
    "    rho = numpy.zeros_like(x)\n",
    "    mask = numpy.where(x<2.0)\n",
    "    rho[mask]=rho_light*x[mask]/2\n",
    "    return rho\n",
    "def flux(rho,umax,rhomax):\n",
    "    F = rho*umax*(1.0-rho/rhomax)\n",
    "    return F\n",
    "def ftbs(rho,nt,dt,dx,bc_value,*args):\n",
    "    rho_hist = [rho.copy()]\n",
    "    rho = rho0.copy()\n",
    "    for n in range (nt):\n",
    "        F = flux(rho,*args)\n",
    "        rho[1:]=rho[1:] - dt/dx*(F[1:]-F[:-1])\n",
    "        rho[0]=bc_value\n",
    "        rho_hist.append(rho.copy())\n",
    "    return rho_hist"
   ]
  },
  {
   "cell_type": "code",
   "execution_count": 26,
   "metadata": {},
   "outputs": [],
   "source": [
    "nx = 81\n",
    "L = 4.0\n",
    "dx = L/(nx-1)\n",
    "nt = 30\n",
    "umax=1.0\n",
    "rhomax=10.0\n",
    "rho_light = 10.0\n",
    "x = numpy.linspace(0.0,L,num=nx)\n",
    "rho0 = rho_green_light(x,rho_light)\n"
   ]
  },
  {
   "cell_type": "code",
   "execution_count": 27,
   "metadata": {},
   "outputs": [],
   "source": [
    "def rho_green_light(x,rho_light):\n",
    "    rho = numpy.zeros_like(x)\n",
    "    mask = numpy.where(x<2.0)\n",
    "    rho[mask]=rho_light*x[mask]/2\n",
    "    return rho\n",
    "def flux(rho,umax,rhomax):\n",
    "    F = rho*umax*(1.0-rho/rhomax)\n",
    "    return F\n",
    "def ftbs(rho,nt,dt,dx,bc_value,*args):\n",
    "    rho_hist = [rho.copy()]\n",
    "    rho = rho0.copy()\n",
    "    for n in range (nt):\n",
    "        F = flux(rho,*args)\n",
    "        rho[1:]=rho[1:] - dt/dx*(F[1:]-F[:-1])\n",
    "        rho[0]=bc_value\n",
    "        rho_hist.append(rho.copy())\n",
    "    return rho_hist\n",
    "\n",
    "sigma = 1.0\n",
    "dt = sigma*dx/umax\n",
    "rho_hist = ftbs(rho0,nt,dt,dx,rho0[0],umax,rhomax)\n",
    "\n",
    "from matplotlib import animation\n",
    "from IPython.display import HTML\n"
   ]
  },
  {
   "cell_type": "markdown",
   "metadata": {},
   "source": []
  },
  {
   "cell_type": "code",
   "execution_count": 28,
   "metadata": {},
   "outputs": [
    {
     "data": {
      "image/png": "[encoded data removed]",
      "text/plain": [
       "<Figure size 432x288 with 1 Axes>"
      ]
     },
     "metadata": {},
     "output_type": "display_data"
    }
   ],
   "source": [
    "fig = pyplot.figure(figsize=(6.0, 4.0))\n",
    "pyplot.xlabel(r'$x$')\n",
    "pyplot.ylabel(r'$\\rho$')\n",
    "pyplot.grid()\n",
    "line = pyplot.plot(x, rho0,\n",
    "                    color='C0', linestyle='-', linewidth=2)[0]\n",
    "pyplot.xlim(0.0, L)\n",
    "pyplot.ylim(-0.5, 11.0)\n",
    "fig.tight_layout()"
   ]
  },
  {
   "cell_type": "code",
   "execution_count": 37,
   "metadata": {},
   "outputs": [
    {
     "data": {
      "application/vnd.jupyter.widget-view+json": {
       "model_id": "36c5c01de23d4c13908e755b82230ece",
       "version_major": 2,
       "version_minor": 0
      },
      "text/plain": [
       "interactive(children=(IntSlider(value=0, description='time step', max=30), Output()), _dom_classes=('widget-in…"
      ]
     },
     "metadata": {},
     "output_type": "display_data"
    }
   ],
   "source": [
    "def update_plot(nt):\n",
    "    fig = pyplot.figure(figsize=(6.0,4.0))\n",
    "    pyplot.xlabel(r'$x$')\n",
    "    pyplot.ylabel(r'$\\rho$')\n",
    "    pyplot.grid()\n",
    "    line = pyplot.plot(x,rho_hist[nt],color='C1', linestyle='-', linewidth=2)[0]\n",
    "    pyplot.xlim(0.0,L)\n",
    "    pyplot.ylim(-0.5,11.0)\n",
    "    fig.tight_layout()\n",
    "    fig.suptitle('Time step {:0>2}'.format(nt))\n",
    "import ipywidgets\n",
    "nt_slider = ipywidgets.IntSlider(value=0,min=0,max=nt,step=1,description='time step')\n",
    "w = ipywidgets.interactive(update_plot,nt=nt_slider)\n",
    "display(w)"
   ]
  },
  {
   "cell_type": "code",
   "execution_count": null,
   "metadata": {},
   "outputs": [],
   "source": []
  }
 ],
 "metadata": {
  "kernelspec": {
   "display_name": "Python 3",
   "language": "python",
   "name": "python3"
  },
  "language_info": {
   "codemirror_mode": {
    "name": "ipython",
    "version": 3
   },
   "file_extension": ".py",
   "mimetype": "text/x-python",
   "name": "python",
   "nbconvert_exporter": "python",
   "pygments_lexer": "ipython3",
   "version": "3.6.2"
  }
 },
 "nbformat": 4,
 "nbformat_minor": 2
}
