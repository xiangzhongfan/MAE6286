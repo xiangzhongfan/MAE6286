{
 "cells": [
  {
   "cell_type": "code",
   "execution_count": 36,
   "metadata": {},
   "outputs": [],
   "source": [
    "import numpy\n",
    "from matplotlib import pyplot\n",
    "%matplotlib inline"
   ]
  },
  {
   "cell_type": "code",
   "execution_count": 37,
   "metadata": {},
   "outputs": [],
   "source": [
    "Lx = 0.01\n",
    "Ly = 0.01\n",
    "nx = 21\n",
    "ny = 21\n",
    "dx = Lx / (nx - 1)\n",
    "dy = Ly / (ny - 1)\n",
    "alpha = 1e-4\n",
    "\n",
    "x = numpy.linspace(0.0,Lx,num = nx)\n",
    "y = numpy.linspace(0.0,Ly,num = ny)\n",
    "\n",
    "#  initial conditions:\n",
    "T0 = 20.0 * numpy.ones((ny,nx))\n",
    "T0[0,:] = 100.0\n",
    "T0[:,0] = 100.0\n"
   ]
  },
  {
   "cell_type": "code",
   "execution_count": 49,
   "metadata": {},
   "outputs": [],
   "source": [
    "def ftcs (T0,nt,dt,dx,dy,alpha):\n",
    "    T = T0.copy()\n",
    "    sigma_x = alpha * dt / dx**2\n",
    "    sigma_y = alpha * dt / dy**2\n",
    "    I = int(nx/2)\n",
    "    J = int(ny/2)\n",
    "    for n in range (nt):\n",
    "        for j in range (1 , ny - 1):\n",
    "            for i in range (1 , nx - 1):\n",
    "                T[j,i] = (T[j,i]+sigma_x*(T[j,i-1]-2*T[j,i]+T[j,i+1])\n",
    "                          +sigma_y*(T[j-1,i]-2*T[j,i]+T[j+1,i]))        \n",
    "        T[0,:] = 100\n",
    "        T[:,0] = 100\n",
    "        T[-1,:] = T[-2,:]\n",
    "        T[:,-1] = T[:,-2]\n",
    "        if T[J,I] >= 70.0:\n",
    "            break\n",
    "    print('Time step{}; temperature at center is {} C'. format(n , T[J,I]))\n",
    "    return T\n",
    "        "
   ]
  },
  {
   "cell_type": "code",
   "execution_count": 50,
   "metadata": {},
   "outputs": [],
   "source": [
    "sigma = 0.5\n",
    "dt = sigma / (alpha *(1/dx**2+1/dy**2))\n",
    "nt = 500"
   ]
  },
  {
   "cell_type": "code",
   "execution_count": 51,
   "metadata": {},
   "outputs": [
    {
     "name": "stdout",
     "output_type": "stream",
     "text": [
      "Time step127; temperature at center is 70.12723235676388 C\n"
     ]
    }
   ],
   "source": [
    "T = ftcs (T0,nt,dt,dx,dy,alpha)"
   ]
  },
  {
   "cell_type": "code",
   "execution_count": 62,
   "metadata": {},
   "outputs": [
    {
     "data": {
      "image/png": "[encoded data removed]",
      "text/plain": [
       "<Figure size 648x504 with 2 Axes>"
      ]
     },
     "metadata": {},
     "output_type": "display_data"
    }
   ],
   "source": [
    "pyplot.figure(figsize=(9.0,7.0))\n",
    "pyplot.xlabel('x [m]')\n",
    "pyplot.ylabel('y [m]')\n",
    "levels = numpy.linspace(20,100,num=51)\n",
    "contf = pyplot.contourf(x,y,T,levels = levels)\n",
    "cbar = pyplot.colorbar(contf)\n",
    "cbar.set_label('Temperature [C]')"
   ]
  },
  {
   "cell_type": "code",
   "execution_count": 64,
   "metadata": {},
   "outputs": [],
   "source": [
    "import numpy\n",
    "from matplotlib import pyplot\n",
    "%matplotlib inline\n",
    "from scipy import linalg"
   ]
  },
  {
   "cell_type": "code",
   "execution_count": 65,
   "metadata": {},
   "outputs": [],
   "source": [
    "def btcs(T0,nt,dt,delta,alpha,Tb):\n",
    "    ny , nx = T0.shape\n",
    "    M, N = nx - 2, ny - 2\n",
    "    sigma = alpha * dt / delta**2\n",
    "    A = lhs_operator(M,N,sigma)\n",
    "    T = T0[1:-1 , 1:-1].flatten()\n",
    "    I,J = int (M/2), int(N/2)\n",
    "    for n in range(nt):\n",
    "        b = rhs_vector(T,M,N,sigma,Tb)\n",
    "        T = linalg.solve(A,b)\n",
    "        if T(J*M+1)>=70.0:\n",
    "            break\n",
    "    print ('Time step{}; temperature at center is {} C'.cormat (n,T[J*M+I]))\n",
    "    return map_1d_to_2d(T,nx,ny,Tb)\n"
   ]
  },
  {
   "cell_type": "code",
   "execution_count": 66,
   "metadata": {},
   "outputs": [],
   "source": [
    "def map_1d_to_2d(T1,nx,ny,Tb):\n",
    "    T = numpy.zeros((ny,nx))\n",
    "    T[1:-1,1:-1] = T1.reshape((ny-2,nx-2))\n",
    "    T[:,0] = Tb\n",
    "    T[0,:] = Tb\n",
    "    T[:,-1] = T[:,-2]\n",
    "    T[-1,:] = T[-2,:]\n",
    "    return T"
   ]
  },
  {
   "cell_type": "code",
   "execution_count": 67,
   "metadata": {},
   "outputs": [],
   "source": [
    "def rhs_vector(T,M,N,sigma,Tb):\n",
    "    b = T / sigma\n",
    "    for j in range (N):\n",
    "        for i in range (M):\n",
    "            I = j*M+i\n",
    "            if i == 0:\n",
    "                b[I] += Tb\n",
    "            if j == 0:\n",
    "                b[I] += Tb\n",
    "    return b"
   ]
  },
  {
   "cell_type": "code",
   "execution_count": 72,
   "metadata": {},
   "outputs": [],
   "source": [
    "def lhs_operator(M,N,sigma):\n",
    "    A = numpy.zeros((M*N,M*N))\n",
    "    for j in range (N):\n",
    "        for i in range (M):\n",
    "            I = j*M+i\n",
    "            IS = I - M\n",
    "            IW = I - 1\n",
    "            IE = I + 1\n",
    "            IN = I + M\n",
    "            if i == 0 and j == 0:\n",
    "                A[I,I] = 1.0/sigma +4\n",
    "                A[I,IE] = -1.0\n",
    "                A[I,IN] = -1.0\n",
    "            elif i == 0 and j == N-1:\n",
    "                A[I,I] = 1.0 / sigma +3.0\n",
    "                A[I,IS] = -1.0\n",
    "                A[I,IE] = -1.0\n",
    "            elif i==M-1 and j==0:\n",
    "                A[I,I] = 1.0/sigma +3\n",
    "                A[I,IE] = -1.0\n",
    "                A[I,IN] = -1.0\n",
    "            elif i == M -1 \n",
    "                A[I,I] = 1.0/sigma +4\n",
    "                A[I,IE] = -1.0\n",
    "                A[I,IN] = -1.0\n",
    "            elif i == 0:\n",
    "                A[I,I] = 1.0 / sigma +4.0\n",
    "                A[I,IS] = -1.0\n",
    "                A[I,IE] = -1.0\n",
    "                A[I,IN] = -1.0\n",
    "            elif j == 0:\n",
    "                A[I,I] = 1.0 / sigma +4.0\n",
    "                A[I,IW] = -1.0\n",
    "                A[I,IE] = -1.0\n",
    "                A[I,IN] = -1.0\n",
    "            elif i == M-1:\n",
    "                A[I,I] = 1.0 / sigma +3.0\n",
    "                A[I,IS] = -1.0\n",
    "                A[I,IW] = -1.0\n",
    "                A[I,IN] = -1.0\n",
    "            elif j == N-1:\n",
    "                A[I,I] = 1.0 / sigma +3.0\n",
    "                A[I,IS] = -1.0\n",
    "                A[I,IW] = -1.0\n",
    "                A[I,IE] = -1.0\n",
    "            else :\n",
    "                A[I,I] = 1.0 / sigma +4.0\n",
    "                A[I,IS] = -1.0\n",
    "                A[I,IW] = -1.0\n",
    "                A[I,IE] = -1.0\n",
    "                A[I,IN] = -1.0\n",
    "    return A"
   ]
  },
  {
   "cell_type": "code",
   "execution_count": null,
   "metadata": {},
   "outputs": [],
   "source": []
  }
 ],
 "metadata": {
  "kernelspec": {
   "display_name": "Python 3",
   "language": "python",
   "name": "python3"
  },
  "language_info": {
   "codemirror_mode": {
    "name": "ipython",
    "version": 3
   },
   "file_extension": ".py",
   "mimetype": "text/x-python",
   "name": "python",
   "nbconvert_exporter": "python",
   "pygments_lexer": "ipython3",
   "version": "3.6.2"
  }
 },
 "nbformat": 4,
 "nbformat_minor": 2
}
