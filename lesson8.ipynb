{
 "cells": [
  {
   "cell_type": "code",
   "execution_count": 15,
   "metadata": {},
   "outputs": [],
   "source": [
    "import numpy\n",
    "from matplotlib import pyplot\n",
    "%matplotlib inline\n",
    "pyplot.rcParams['font.family']='serif'\n",
    "pyplot.rcParams['font.size']=16"
   ]
  },
  {
   "cell_type": "code",
   "execution_count": 16,
   "metadata": {},
   "outputs": [],
   "source": [
    "def rho_red_light(x,rho_max):\n",
    "    rho = rho_max*numpy.ones_like(x)\n",
    "    mask = numpy.where(x<3.0)\n",
    "    rho[mask]=0.5*rho_max\n",
    "    return rho"
   ]
  },
  {
   "cell_type": "code",
   "execution_count": 33,
   "metadata": {},
   "outputs": [],
   "source": [
    "nx=81\n",
    "L = 4.0\n",
    "dx = L/(nx-1)\n",
    "nt = 80\n",
    "rho_max = 10\n",
    "u_max=1.0\n",
    "x = numpy.linspace(0.0,L,num=nx)\n",
    "rho0 = rho_red_light(x,rho_max)\n",
    "a=5\n",
    "b=10"
   ]
  },
  {
   "cell_type": "code",
   "execution_count": 34,
   "metadata": {},
   "outputs": [],
   "source": [
    "def flux (rho,rho_max,u_max):\n",
    "    F = rho * u_max * (1.0 - rho / rho_max)\n",
    "    return F\n"
   ]
  },
  {
   "cell_type": "code",
   "execution_count": null,
   "metadata": {},
   "outputs": [],
   "source": []
  },
  {
   "cell_type": "code",
   "execution_count": 35,
   "metadata": {},
   "outputs": [],
   "source": [
    "def Lax(rho0,nt,dt,dx,u_max,rho_max):\n",
    "    rho_hist=[rho0.copy()]\n",
    "    rho=rho0.copy()\n",
    "    for n in range (nt):\n",
    "        F = flux(rho,rho_max,u_max)\n",
    "        rho[1:-1]=0.5*(rho[2:]+rho[:-2])-dt*0.5/dx*(F[2:]-F[:-2])\n",
    "        rho[0]=5\n",
    "        rho[-1]=10\n",
    "        rho_hist.append(rho.copy())\n",
    "    return rho_hist\n",
    "    "
   ]
  },
  {
   "cell_type": "code",
   "execution_count": 42,
   "metadata": {},
   "outputs": [],
   "source": [
    "sigma = 1\n",
    "dt=sigma*dx/u_max\n",
    "rho_hist = Lax(rho0,nt,dt,dx,u_max,rho_max)"
   ]
  },
  {
   "cell_type": "markdown",
   "metadata": {},
   "source": []
  },
  {
   "cell_type": "code",
   "execution_count": 43,
   "metadata": {},
   "outputs": [
    {
     "data": {
      "image/png": "[encoded data removed]",
      "text/plain": [
       "<Figure size 432x288 with 1 Axes>"
      ]
     },
     "metadata": {},
     "output_type": "display_data"
    }
   ],
   "source": [
    "ig = pyplot.figure(figsize=(6.0, 4.0))\n",
    "pyplot.xlabel(r'$x$')\n",
    "pyplot.ylabel(r'$\\rho$')\n",
    "pyplot.grid()\n",
    "line = pyplot.plot(x, rho0,\n",
    "                   color='C0', linestyle='-', linewidth=2)[0]\n",
    "pyplot.xlim(0.0, L)\n",
    "pyplot.ylim(4.0, 11.0)\n",
    "pyplot.tight_layout()"
   ]
  },
  {
   "cell_type": "code",
   "execution_count": 44,
   "metadata": {},
   "outputs": [
    {
     "data": {
      "application/vnd.jupyter.widget-view+json": {
       "model_id": "426aff4af1644028880c63a469f7a01f",
       "version_major": 2,
       "version_minor": 0
      },
      "text/plain": [
       "interactive(children=(IntSlider(value=0, description='time step', max=80), Output()), _dom_classes=('widget-in…"
      ]
     },
     "metadata": {},
     "output_type": "display_data"
    }
   ],
   "source": [
    "import ipywidgets\n",
    "\n",
    "# create a function to plot your solution\n",
    "def plot_density(n, rho_hist):\n",
    "   pyplot.figure(figsize=(8.0,4.0))\n",
    "   pyplot.xlabel('Distance [km]')\n",
    "   pyplot.ylabel('Density [cars / km]')\n",
    "   pyplot.grid()\n",
    "   pyplot.plot(x, rho_hist[0], label='Initial')\n",
    "   pyplot.plot(x, rho_hist[n], label='Time step {}'.format(n))\n",
    "   pyplot.ylim(rho_hist[0].min() - 1.0, rho_hist[0].max() + 1.0)\n",
    "   pyplot.legend()\n",
    "\n",
    "# create a ipywidgets slider for the time levels\n",
    "nt_slider = ipywidgets.IntSlider(value=0, min=0, max=nt, step=1,\n",
    "                                description='time step')\n",
    "\n",
    "# create the ipywidgets interactive figure\n",
    "w = ipywidgets.interactive(plot_density,\n",
    "                              n=nt_slider,\n",
    "                              rho_hist=ipywidgets.fixed(rho_hist))\n",
    "\n",
    "# display the interactive figure\n",
    "display(w)"
   ]
  },
  {
   "cell_type": "code",
   "execution_count": 13,
   "metadata": {},
   "outputs": [],
   "source": [
    "def ftfs (rho0,nt,dt,dx,u_max,rho_max):\n",
    "    rho_hist=[rho0.copy()]\n",
    "    rho=rho0.copy()\n",
    "    for n in range (nt):\n",
    "        F = flux(rho,rho_max,u_max)\n",
    "        rho[1:]=rho[:-1]-dt/dx*(F[1:]-F[:-1])\n",
    "        rho[0]=5\n",
    "        rho[-1]=10\n",
    "        rho_hist.append(rho.copy())\n",
    "    return rho_hist\n",
    "sigma = 0.5\n",
    "dt=sigma*dx/u_max\n",
    "rho_hist = ftfs(rho0,nt,dt,dx,u_max,rho_max)   "
   ]
  },
  {
   "cell_type": "code",
   "execution_count": 14,
   "metadata": {},
   "outputs": [
    {
     "data": {
      "application/vnd.jupyter.widget-view+json": {
       "model_id": "985f7c77dc7649e9b41c7b8c588574dd",
       "version_major": 2,
       "version_minor": 0
      },
      "text/plain": [
       "interactive(children=(IntSlider(value=0, description='time step', max=40), Output()), _dom_classes=('widget-in…"
      ]
     },
     "metadata": {},
     "output_type": "display_data"
    }
   ],
   "source": [
    "\n",
    "import ipywidgets\n",
    "\n",
    "# create a function to plot your solution\n",
    "def plot_density(n, rho_hist):\n",
    "   pyplot.figure(figsize=(8.0,4.0))\n",
    "   pyplot.xlabel('Distance [km]')\n",
    "   pyplot.ylabel('Density [cars / km]')\n",
    "   pyplot.grid()\n",
    "   pyplot.plot(x, rho_hist[0], label='Initial')\n",
    "   pyplot.plot(x, rho_hist[n], label='Time step {}'.format(n))\n",
    "   pyplot.ylim(rho_hist[0].min() - 1.0, rho_hist[0].max() + 1.0)\n",
    "   pyplot.legend()\n",
    "\n",
    "# create a ipywidgets slider for the time levels\n",
    "nt_slider = ipywidgets.IntSlider(value=0, min=0, max=nt, step=1,\n",
    "                                description='time step')\n",
    "\n",
    "# create the ipywidgets interactive figure\n",
    "w = ipywidgets.interactive(plot_density,\n",
    "                              n=nt_slider,\n",
    "                              rho_hist=ipywidgets.fixed(rho_hist))\n",
    "\n",
    "# display the interactive figure\n",
    "display(w)"
   ]
  },
  {
   "cell_type": "code",
   "execution_count": null,
   "metadata": {},
   "outputs": [],
   "source": []
  }
 ],
 "metadata": {
  "kernelspec": {
   "display_name": "Python 3",
   "language": "python",
   "name": "python3"
  },
  "language_info": {
   "codemirror_mode": {
    "name": "ipython",
    "version": 3
   },
   "file_extension": ".py",
   "mimetype": "text/x-python",
   "name": "python",
   "nbconvert_exporter": "python",
   "pygments_lexer": "ipython3",
   "version": "3.6.2"
  }
 },
 "nbformat": 4,
 "nbformat_minor": 2
}
