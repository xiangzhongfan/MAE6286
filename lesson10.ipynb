{
 "cells": [
  {
   "cell_type": "code",
   "execution_count": null,
   "metadata": {},
   "outputs": [],
   "source": [
    "import numpy\n",
    "from matplotlib import pyplot\n",
    "%matplotlib inline\n",
    "pyplot.rcParams['font.family']='serif'\n",
    "pyplot.rcParams['font.size']=16"
   ]
  },
  {
   "cell_type": "code",
   "execution_count": null,
   "metadata": {},
   "outputs": [],
   "source": [
    "L = 1.0\n",
    "nx =51\n",
    "dx = L/(nx-1)\n",
    "alpha = 1.22e-3\n",
    "x = numpy.linspace(0.0,L,num=nx)\n",
    "T0 = numpy.zeros(nx)\n",
    "T0[0]=100.0"
   ]
  },
  {
   "cell_type": "code",
   "execution_count": null,
   "metadata": {},
   "outputs": [],
   "source": [
    "def ftcs(T0,nt,dt,dx,alpha):\n",
    "    T = T0.copy()\n",
    "    sigma = alpha*dt/dx**2\n",
    "    for n in range (nt):\n",
    "        T[1:-1] = T[1:-1]+sigma * (T[:-2]-2*T[1:-1]+T[2:])\n",
    "        T[0]=100\n",
    "        T[-1]=0.0\n",
    "    return T\n"
   ]
  },
  {
   "cell_type": "code",
   "execution_count": null,
   "metadata": {},
   "outputs": [],
   "source": [
    "nt = 100\n",
    "sigma = 0.6\n",
    "dt=sigma * dx**2/alpha\n",
    "T = ftcs (T0,nt,dt,dx,alpha)"
   ]
  },
  {
   "cell_type": "code",
   "execution_count": null,
   "metadata": {},
   "outputs": [],
   "source": [
    "pyplot.plot(x,T,lw=3)"
   ]
  },
  {
   "cell_type": "code",
   "execution_count": null,
   "metadata": {},
   "outputs": [],
   "source": [
    "def ftcs_mixed_bcs(T0,nt,dt,dx,alpha):\n",
    "    T=T0.copy()\n",
    "    sigma = alpha *dt/dx**2\n",
    "    for n in range (nt):\n",
    "        T[1:-1] = T[1:-1]+sigma * (T[:-2]-2*T[1:-1]+T[2:])\n",
    "        T[-1]=T[-2]\n",
    "    return T"
   ]
  },
  {
   "cell_type": "code",
   "execution_count": null,
   "metadata": {},
   "outputs": [],
   "source": [
    "nt = 100\n",
    "sigma = 0.5\n",
    "dt=sigma * dx**2/alpha\n",
    "T = ftcs (T0,nt,dt,dx,alpha)\n",
    "pyplot.plot(x,T,lw=3)"
   ]
  },
  {
   "cell_type": "code",
   "execution_count": null,
   "metadata": {},
   "outputs": [],
   "source": [
    "import numpy\n",
    "from matplotlib import pyplot\n",
    "%matplotlib inline\n",
    "pyplot.rcParams['font.family']='serif'\n",
    "pyplot.rcParams['font.size']=16\n",
    "L = 1.0\n",
    "nx =51\n",
    "dx = L/(nx-1)\n",
    "alpha = 1.22e-3\n",
    "q=0.0\n",
    "x = numpy.linspace(0.0,L,num=nx)\n",
    "T0 = numpy.zeros_like(x)\n",
    "T0[0]=100.0"
   ]
  },
  {
   "cell_type": "code",
   "execution_count": null,
   "metadata": {},
   "outputs": [],
   "source": [
    "from scipy import linalg\n",
    "def lhs_operator(nx,sigma):\n",
    "    D = numpy.diag((2+1/sigma)*numpy.ones(nx-2))\n",
    "    D[-1,-1] = 1+1/sigma\n",
    "    U = numpy.diag(-1.0*numpy.ones(nx-3),k=1)\n",
    "    L = numpy.diag(-1.0*numpy.ones(nx-3),k=-1)\n",
    "    A = D+U+L\n",
    "    return A"
   ]
  },
  {
   "cell_type": "code",
   "execution_count": null,
   "metadata": {},
   "outputs": [],
   "source": [
    "def rhs_vector(T,sigma,q,dx):\n",
    "    b = T[1:-1]/sigma\n",
    "    b[0] += T[0]\n",
    "    b[-1] += q*dx\n",
    "    return b"
   ]
  },
  {
   "cell_type": "code",
   "execution_count": null,
   "metadata": {},
   "outputs": [],
   "source": [
    "def btcs(T0,nt,dt,dx,alpha,q):\n",
    "    sigma = alpha *dt/dx**2\n",
    "    A = lhs_operator(nx,sigma)\n",
    "    T = T0.copy\n",
    "    for n in range (nt):\n",
    "        b = rhs_vector(T,sigma,q,dx)\n",
    "        T[1:-1]= linalg.solve(A,b)\n",
    "        T[-1]=T[-2]+q*dx\n",
    "    return T"
   ]
  },
  {
   "cell_type": "code",
   "execution_count": null,
   "metadata": {},
   "outputs": [],
   "source": [
    "nt = 1000\n",
    "sigma = 5.0\n",
    "t=sigma * dx**2/alpha\n",
    "T = btcs (T0,nt,dt,dx,alpha,q)\n",
    "pyplot.plot(x,T)"
   ]
  },
  {
   "cell_type": "code",
   "execution_count": null,
   "metadata": {},
   "outputs": [],
   "source": [
    "\n"
   ]
  },
  {
   "cell_type": "code",
   "execution_count": 2,
   "metadata": {},
   "outputs": [
    {
     "data": {
      "text/plain": [
       "[<matplotlib.lines.Line2D at 0x7f231c9caac8>]"
      ]
     },
     "execution_count": 2,
     "metadata": {},
     "output_type": "execute_result"
    },
    {
     "data": {
      "image/png": "[encoded data removed]",
      "text/plain": [
       "<Figure size 432x288 with 1 Axes>"
      ]
     },
     "metadata": {},
     "output_type": "display_data"
    }
   ],
   "source": [
    "import numpy\n",
    "from matplotlib import pyplot\n",
    "%matplotlib inline\n",
    "pyplot.rcParams['font.family']='serif'\n",
    "pyplot.rcParams['font.size']=16\n",
    "\n",
    "nx = 81\n",
    "L = 20\n",
    "dx = L/(nx-1)\n",
    "t = 0.01\n",
    "dt = 0.0002\n",
    "gamma = 1.4\n",
    "x = numpy.linspace(-10,10,num=nx)\n",
    "nt = int(t/dt)+1\n",
    "\n",
    "rho_0 = numpy.ones_like(x)*0.125\n",
    "mask = numpy.where(x<0.0)\n",
    "rho_0[mask]=1\n",
    "\n",
    "v_0 = numpy.zeros_like(x)\n",
    "\n",
    "p_0 = numpy.ones_like(x)*10000\n",
    "mask = numpy.where (x<0.0)\n",
    "p_0[mask] = 100000\n",
    "\n",
    "v = v_0.copy()\n",
    "p = p_0.copy()\n",
    "rho = rho_0.copy()\n",
    "\n",
    "\n",
    "\n",
    "eT = numpy.ones(nx)\n",
    "eT = p/((gamma-1)*rho)+0.5*v**2\n",
    "\n",
    "\n",
    "u = numpy.ones((3,nx))\n",
    "u[0,]=rho\n",
    "u[1,]=rho * v\n",
    "u[2,]=rho * eT\n",
    "\n",
    "un     = numpy.zeros_like(u)\n",
    "u_star = numpy.zeros_like(u)\n",
    "f_star = numpy.zeros_like(u)\n",
    "f      = numpy.zeros_like(u)\n",
    "\n",
    "for n in range (81):\n",
    "    un = u.copy()\n",
    "    u1 = u[0,]\n",
    "    u2 = u[1,]\n",
    "    u3 = u[2,]\n",
    "    f[0,] = u2\n",
    "    f[1,] = u2**2/u1+(gamma-1)*(u3-0.5*(u2**2/u1))\n",
    "    f[2,] =(u3+(gamma-1)*(u3-0.5*(u2**2/u1)))*u2/u1\n",
    "    u_star[:,:-1] = 0.5*(un[:,1:]+un[:,:-1])-dt/(2*dx)*(f[:,1:]-f[:,:-1])\n",
    "    u_star[:,-1] = u[:,-1]\n",
    "    u1 = u_star[0,]\n",
    "    u2 = u_star[1,]\n",
    "    u3 = u_star[2,]\n",
    "    f_star[0,] = u2\n",
    "    f_star[1,] = u2**2/u1+(gamma-1)*(u3-0.5*(u2**2/u1))\n",
    "    f_star[2,] = (u3+(gamma-1)*(u3-0.5*(u2**2/u1)))*u2/u1\n",
    "    u[:,1:-1]  = un[:,1:-1] - dt/dx*(f_star[:,1:-1]-f_star[:,:-2])\n",
    "\n",
    "pyplot.plot(x,u[0,:],lw=3)\n"
   ]
  },
  {
   "cell_type": "code",
   "execution_count": 3,
   "metadata": {},
   "outputs": [
    {
     "ename": "IndentationError",
     "evalue": "unexpected indent (<ipython-input-3-06099b532c46>, line 90)",
     "output_type": "error",
     "traceback": [
      "\u001b[0;36m  File \u001b[0;32m\"<ipython-input-3-06099b532c46>\"\u001b[0;36m, line \u001b[0;32m90\u001b[0m\n\u001b[0;31m    u_star[:,:-1] = 0.5*(un[:,1:]+un[:,:-1])-dt/(2*dx)*(f[:,1:]-f[:,:-1])\u001b[0m\n\u001b[0m    ^\u001b[0m\n\u001b[0;31mIndentationError\u001b[0m\u001b[0;31m:\u001b[0m unexpected indent\n"
     ]
    }
   ],
   "source": [
    "import numpy\n",
    "from matplotlib import pyplot\n",
    "%matplotlib inline\n",
    "pyplot.rcParams['font.family']='serif'\n",
    "pyplot.rcParams['font.size']=16\n",
    "\n",
    "nx = 81\n",
    "L = 20\n",
    "dx = L/(nx-1)\n",
    "t = 0.01\n",
    "dt = 0.0002\n",
    "gamma = 1.4\n",
    "x = numpy.linspace(-10,10,num=nx)\n",
    "nt = int(t/dt)+1\n",
    "\n",
    "rho_0 = numpy.ones(nx)*0.125\n",
    "mask = numpy.where(x<=0.0)\n",
    "rho_0[mask]=1\n",
    "\n",
    "u_0 = numpy.zeros(nx)\n",
    "\n",
    "p_0 = numpy.ones(nx)*10\n",
    "mask = numpy.where (x<=0.0)\n",
    "p_0[mask] = 100\n",
    "\n",
    "u = u_0.copy()\n",
    "p = p_0.copy()\n",
    "rho = rho_0.copy()\n",
    "\n",
    "u1 = numpy.ones(nx)\n",
    "u2 = numpy.ones(nx)\n",
    "u3 = numpy.ones(nx)\n",
    "e = numpy.ones(nx)\n",
    "e = p/(gamma-1)/rho\n",
    "eT = numpy.ones(nx)\n",
    "eT = e+u*u/2\n",
    "\n",
    "u1 = rho \n",
    "u2 = rho * u\n",
    "u3 = rho*eT\n",
    "u1_star = u1.copy()\n",
    "u2_star = u2.copy()\n",
    "u3_star = u3.copy()\n",
    "f1_star =numpy.ones(nx)\n",
    "f2_star =numpy.ones(nx)\n",
    "f3_star =numpy.ones(nx)\n",
    "f1=numpy.zeros(nx)\n",
    "f2=numpy.zeros(nx)\n",
    "f3=numpy.zeros(nx)\n",
    "\n",
    "e = p/(gamma-1)/rho\n",
    "eT = numpy.ones(nx)\n",
    "eT = e+(u**2/2)\n",
    "\n",
    "u1 = rho \n",
    "u2 = rho * u\n",
    "u3 = rho * eT\n",
    "\n",
    "pyplot.plot (x,u1)\n",
    "for n in range (nt):\n",
    "    u1_rhs = u1.copy()\n",
    "    u2_rhs = u2.copy()\n",
    "    u3_rhs = u3.copy()\n",
    "    f1 = u2_rhs\n",
    "    f2 = u2_rhs**2/u1_rhs+(gamma-1)*(u3_rhs-0.5*u2_rhs**2/u1_rhs)\n",
    "    f3 = (u3_rhs+(gamma-1)*(u3_rhs-0.5*u2_rhs**2/u1_rhs))*u2_rhs/u1_rhs\n",
    "    for i in range (1,nx-1):\n",
    "        \n",
    "            f1[i] = u2_rhs[i]\n",
    "            f2[i] = u2_rhs[i]**2/u1_rhs[i]+(gamma-1)*(u3_rhs[i]-0.5*u2_rhs[i]**2/u1_rhs[i])\n",
    "            f3[i] = (u3_rhs[i]+(gamma-1)*(u3_rhs[i]-0.5*(u2_rhs[i]**2/u1_rhs[i])))*u2_rhs[i]/u1_rhs[i]\n",
    "        \n",
    "            u1_star[i] = 0.5*(u1_rhs[i+1]+u1_rhs[i])-0.5*dt/dx*(f1[i+1]-f1[i])\n",
    "            u2_star[i] = 0.5*(u2_rhs[i+1]+u2_rhs[i])-0.5*dt/dx*(f2[i+1]-f2[i])\n",
    "            u3_star[i] = 0.5*(u3_rhs[i+1]+u3_rhs[i])-0.5*dt/dx*(f3[i+1]-f3[i])\n",
    "            u1_star[-1] = u1[-1]\n",
    "            u2_star[-1] = u2[-1]\n",
    "            u3_star[-1] = u3[-1]\n",
    "        \n",
    "            f1_star[i] = u2_star[i]\n",
    "            f2_star[i] = u2_star[i]**2/u1_star[i]+(gamma-1)*(u3_star[i]-0.5*u2_star[i]**2/u1_star[i])\n",
    "            f3_star[i] = (u3_star[i]+(gamma-1)*(u3_star[i]-0.5*u2_star[i]**2/u1_star[i]))*u2_star[i]/u1_star[i]\n",
    "        \n",
    "            u1[i] = u1_rhs[i] - dt/dx*(f1_star[i]-f1_star[i-1])\n",
    "            u2[i] = u2_rhs[i] - dt/dx*(f2_star[i]-f2_star[i-1])\n",
    "            u3[i] = u3_rhs[i] - dt/dx*(f3_star[i]-f3_star[i-1])\n",
    "\n",
    "pyplot.plot(x,u1)\n",
    "\n",
    "    u_star[:,:-1] = 0.5*(un[:,1:]+un[:,:-1])-dt/(2*dx)*(f[:,1:]-f[:,:-1])\n",
    "    u_star[:,-1] = u[:,-1]\n",
    "    u1 = u_star[0,]\n",
    "    u2 = u_star[1,]\n",
    "    u3 = u_star[2,]\n",
    "    f_star[0,] = u2\n",
    "    f_star[1,] = u2**2/u1+(gamma-1)*(u3-0.5*(u2**2/u1))\n",
    "    f_star[2,] = (u3+(gamma-1)*(u3-0.5*(u2**2/u1)))*u2/u1\n",
    "    u[:,1:-1]  = un[:,1:-1] - dt/dx*(f_star[:,1:-1]-f_star[:,:-2])"
   ]
  },
  {
   "cell_type": "code",
   "execution_count": null,
   "metadata": {},
   "outputs": [],
   "source": []
  }
 ],
 "metadata": {
  "kernelspec": {
   "display_name": "Python 3",
   "language": "python",
   "name": "python3"
  },
  "language_info": {
   "codemirror_mode": {
    "name": "ipython",
    "version": 3
   },
   "file_extension": ".py",
   "mimetype": "text/x-python",
   "name": "python",
   "nbconvert_exporter": "python",
   "pygments_lexer": "ipython3",
   "version": "3.6.2"
  }
 },
 "nbformat": 4,
 "nbformat_minor": 2
}
